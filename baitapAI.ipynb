{
  "nbformat": 4,
  "nbformat_minor": 0,
  "metadata": {
    "colab": {
      "provenance": []
    },
    "kernelspec": {
      "name": "python3",
      "display_name": "Python 3"
    },
    "language_info": {
      "name": "python"
    }
  },
  "cells": [
    {
      "cell_type": "code",
      "execution_count": 1,
      "metadata": {
        "colab": {
          "base_uri": "https://localhost:8080/"
        },
        "id": "aXpqDN6WgXGe",
        "outputId": "5bf445d5-525e-43c9-bf1b-0690b96bcf82"
      },
      "outputs": [
        {
          "output_type": "stream",
          "name": "stdout",
          "text": [
            "2\n"
          ]
        }
      ],
      "source": [
        "a = 7        # Gán giá trị 7 cho biến a\n",
        "b = 5        # Gán giá trị 5 cho biến b\n",
        "c = a - b    # Tính hiệu của a và b (7 - 5 = 2), gán kết quả cho biến c\n",
        "print(c)     # In ra giá trị của c (kết quả là 2)"
      ]
    },
    {
      "cell_type": "code",
      "source": [
        "city = \"Hà Nội\"               # Gán chuỗi \"Hà Nội\" cho biến city\n",
        "year = 2025                   # Gán số nguyên 2025 cho biến year\n",
        "print(\"Thành phố: \", city, \" - Năm: \", year)\n",
        "# Hàm print() in ra nhiều đối tượng, cách nhau bởi dấu cách\n",
        "# Kết quả: Thành phố:  Hà Nội  - Năm:  2025\n"
      ],
      "metadata": {
        "colab": {
          "base_uri": "https://localhost:8080/"
        },
        "id": "ag7TKGZQnKhB",
        "outputId": "9a4a8f27-1f26-4878-8848-b7f6978bf640"
      },
      "execution_count": 2,
      "outputs": [
        {
          "output_type": "stream",
          "name": "stdout",
          "text": [
            "Thành phố:  Hà Nội  - Năm:  2025\n"
          ]
        }
      ]
    },
    {
      "cell_type": "code",
      "source": [
        "n = 4              # Gán giá trị 4 cho biến n\n",
        "t = 0              # Gán giá trị ban đầu 0 cho biến t (dùng để tích lũy tổng)\n",
        "\n",
        "for i in range(1, n+1):   # Vòng lặp chạy i từ 1 đến n (1, 2, 3, 4)\n",
        "    t += i                # Mỗi lần lặp, cộng i vào t (t = t + i)\n",
        "\n",
        "print(t)          # Sau vòng lặp, in ra giá trị của t\n"
      ],
      "metadata": {
        "colab": {
          "base_uri": "https://localhost:8080/"
        },
        "id": "XfNnl-6DnWjT",
        "outputId": "6b839e89-f6f0-47a8-be9f-309b72acdab4"
      },
      "execution_count": 3,
      "outputs": [
        {
          "output_type": "stream",
          "name": "stdout",
          "text": [
            "10\n"
          ]
        }
      ]
    },
    {
      "cell_type": "code",
      "source": [
        "numbers = [1, 2, 3, 4]     # Tạo một danh sách gồm các số 1, 2, 3, 4\n",
        "\n",
        "for x in numbers:          # Duyệt qua từng phần tử x trong danh sách\n",
        "    if x % 2 == 0:         # Nếu x chia hết cho 2 (tức là số chẵn)\n",
        "        print(x, \"là số chẵn\")   # In ra x và thông báo \"là số chẵn\"\n",
        "    else:                  # Ngược lại (không chia hết cho 2, tức là số lẻ)\n",
        "        print(x, \"là số lẻ\")     # In ra x và thông báo \"là số lẻ\"\n"
      ],
      "metadata": {
        "colab": {
          "base_uri": "https://localhost:8080/"
        },
        "id": "jJ7qcvo4nhDH",
        "outputId": "1a9d5d8f-f0b7-4ce3-e2a9-966e29e73167"
      },
      "execution_count": 4,
      "outputs": [
        {
          "output_type": "stream",
          "name": "stdout",
          "text": [
            "1 là số lẻ\n",
            "2 là số chẵn\n",
            "3 là số lẻ\n",
            "4 là số chẵn\n"
          ]
        }
      ]
    },
    {
      "cell_type": "code",
      "source": [
        "animals = [\"cat\", \"dog\", \"cat\", \"bird\"]   # Tạo danh sách gồm 4 phần tử: \"cat\", \"dog\", \"cat\", \"bird\"\n",
        "count = 0                                # Biến count ban đầu = 0 (dùng để đếm số phần tử)\n",
        "\n",
        "for a in animals:                        # Duyệt qua từng phần tử trong danh sách animals\n",
        "    count += 1                           # Mỗi lần lặp, tăng count thêm 1\n",
        "\n",
        "print(\"Số phần tử trong danh sách là:\", count)\n",
        "# Sau vòng lặp, in ra số phần tử đếm được\n"
      ],
      "metadata": {
        "colab": {
          "base_uri": "https://localhost:8080/"
        },
        "id": "iM7sSYEvnt-5",
        "outputId": "a530c69f-121c-41d6-8b89-f0b614b25a1f"
      },
      "execution_count": 5,
      "outputs": [
        {
          "output_type": "stream",
          "name": "stdout",
          "text": [
            "Số phần tử trong danh sách là: 4\n"
          ]
        }
      ]
    },
    {
      "cell_type": "code",
      "source": [
        "num = int(input(\"Nhập số: \"))   # Ép kiểu input thành số nguyên\n",
        "if num % 2 == 0:                # Kiểm tra chia hết cho 2\n",
        "    print(\"Số chẵn\")\n",
        "else:\n",
        "    print(\"Số lẻ\")"
      ],
      "metadata": {
        "colab": {
          "base_uri": "https://localhost:8080/"
        },
        "id": "FSKpTXPKo2yp",
        "outputId": "d5966791-c268-474f-b261-4aa7d3cdddd4"
      },
      "execution_count": 7,
      "outputs": [
        {
          "output_type": "stream",
          "name": "stdout",
          "text": [
            "Nhập số: 5\n",
            "Số lẻ\n"
          ]
        }
      ]
    },
    {
      "cell_type": "code",
      "source": [
        "for i in range(3):                     # Vòng lặp chạy 3 lần, i = 0, 1, 2\n",
        "    print(\"AI đang học lần\", i + 1)    # In ra số lần học, cộng thêm 1 vì i bắt đầu từ 0\n",
        "\n",
        "print(\"Huấn luyện xong!\")              # Sau khi lặp xong, in thông báo kết thúc\n"
      ],
      "metadata": {
        "colab": {
          "base_uri": "https://localhost:8080/"
        },
        "id": "qqshBxmcpf5j",
        "outputId": "f62c72fe-529e-41d3-abd2-edafa9ecf4b8"
      },
      "execution_count": 8,
      "outputs": [
        {
          "output_type": "stream",
          "name": "stdout",
          "text": [
            "AI đang học lần 1\n",
            "AI đang học lần 2\n",
            "AI đang học lần 3\n",
            "Huấn luyện xong!\n"
          ]
        }
      ]
    },
    {
      "cell_type": "code",
      "source": [
        "for x in [\"cat\", \"dog\", \"fish\"]:        # Vòng lặp duyệt qua 3 phần tử trong danh sách\n",
        "    print(\"Dự đoán con vật:\", x)        # In ra chuỗi kèm tên con vật"
      ],
      "metadata": {
        "colab": {
          "base_uri": "https://localhost:8080/"
        },
        "id": "3y1TJ7wMpttm",
        "outputId": "98953d9d-db0a-4aa9-d512-9ca061df9150"
      },
      "execution_count": 9,
      "outputs": [
        {
          "output_type": "stream",
          "name": "stdout",
          "text": [
            "Dự đoán con vật: cat\n",
            "Dự đoán con vật: dog\n",
            "Dự đoán con vật: fish\n"
          ]
        }
      ]
    },
    {
      "cell_type": "code",
      "source": [
        "# Simple menu\n",
        "print(\"=== AI Prediction System ===\")\n",
        "print(\"1) Sentiment analysis\")\n",
        "print(\"2) Weather forecast\")\n",
        "print(\"3) Exit\")\n",
        "print(\"Please choose an option:\")\n"
      ],
      "metadata": {
        "colab": {
          "base_uri": "https://localhost:8080/"
        },
        "id": "9BYdU-Y4qGSJ",
        "outputId": "039dffcb-1427-42c6-ddc1-46fca3e0c2b0"
      },
      "execution_count": 10,
      "outputs": [
        {
          "output_type": "stream",
          "name": "stdout",
          "text": [
            "=== AI Prediction System ===\n",
            "1) Sentiment analysis\n",
            "2) Weather forecast\n",
            "3) Exit\n",
            "Please choose an option:\n"
          ]
        }
      ]
    }
  ]
}