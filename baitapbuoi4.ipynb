{
  "nbformat": 4,
  "nbformat_minor": 0,
  "metadata": {
    "colab": {
      "provenance": []
    },
    "kernelspec": {
      "name": "python3",
      "display_name": "Python 3"
    },
    "language_info": {
      "name": "python"
    }
  },
  "cells": [
    {
      "cell_type": "code",
      "execution_count": null,
      "metadata": {
        "colab": {
          "base_uri": "https://localhost:8080/"
        },
        "id": "LBJbevvG9bUz",
        "outputId": "94a9329c-71c3-4655-93f4-a628bb5373df"
      },
      "outputs": [
        {
          "output_type": "stream",
          "name": "stdout",
          "text": [
            "nhap so n: 4\n",
            "10\n"
          ]
        }
      ],
      "source": [
        "#W4A1\n",
        "n = int(input(\"nhap so n: \"))\n",
        "total = 0\n",
        "for i in range(n+1):\n",
        "  total += i\n",
        "print(total)"
      ]
    },
    {
      "cell_type": "code",
      "source": [
        "#W4A2\n",
        "n = int(input(\"nhap so n: \"))\n",
        "total = 0\n",
        "if n < 2:\n",
        "  print(n, \"khong phai la so nguyen to\")\n",
        "else:\n",
        "  for i in range(2, n):\n",
        "    if n % i == 0:\n",
        "      total += i\n",
        "    else:\n",
        "      total = total\n",
        "  if total == 0:\n",
        "      print(n, \"la so nguyen to \")\n",
        "  else:\n",
        "      print(n, \"khong phai la so nguyen to\")\n"
      ],
      "metadata": {
        "colab": {
          "base_uri": "https://localhost:8080/"
        },
        "id": "YNovQJ73-ZNF",
        "outputId": "d03456df-8abb-4554-ed97-bee3dd24b941"
      },
      "execution_count": null,
      "outputs": [
        {
          "output_type": "stream",
          "name": "stdout",
          "text": [
            "nhap so n: 0\n",
            "0 khong phai la so nguyen to\n"
          ]
        }
      ]
    },
    {
      "cell_type": "code",
      "source": [
        "#W4A3\n",
        "n = int(input(\"nhap so n: \"))\n",
        "total = 1\n",
        "for i in range(1, n+1):\n",
        "  total *= i\n",
        "print(total)\n",
        "\n"
      ],
      "metadata": {
        "colab": {
          "base_uri": "https://localhost:8080/"
        },
        "id": "h3mvcSKQCz7v",
        "outputId": "020d23fa-c7b1-4b1d-c6e5-0ca043e2a99d"
      },
      "execution_count": null,
      "outputs": [
        {
          "output_type": "stream",
          "name": "stdout",
          "text": [
            "nhap so n: 6\n",
            "720\n"
          ]
        }
      ]
    },
    {
      "cell_type": "code",
      "source": [
        "#W4A4\n",
        "import math\n",
        "n = int(input(\"nhap so n: \"))\n",
        "x = abs(n)\n",
        "y = str(x)\n",
        "print(len(y))"
      ],
      "metadata": {
        "colab": {
          "base_uri": "https://localhost:8080/"
        },
        "id": "AUn6yRrjCIzt",
        "outputId": "bb63e268-cfa8-4c90-ad14-cfe27218856f"
      },
      "execution_count": null,
      "outputs": [
        {
          "output_type": "stream",
          "name": "stdout",
          "text": [
            "nhap so n: 1234\n",
            "4\n"
          ]
        }
      ]
    },
    {
      "cell_type": "code",
      "source": [
        "#W4A5\n",
        "n = str(input(\"nhap so n: \"))\n",
        "if \"42\" in n:\n",
        "  print(\"I've found the meaning of life\")\n",
        "else:\n",
        "  print(\"It's a foke!\")\n"
      ],
      "metadata": {
        "colab": {
          "base_uri": "https://localhost:8080/"
        },
        "id": "mZ_zDCeWDPvx",
        "outputId": "2b7b60ea-0802-4705-c94a-12a438cb885e"
      },
      "execution_count": null,
      "outputs": [
        {
          "output_type": "stream",
          "name": "stdout",
          "text": [
            "nhap so n: 57654\n",
            "It's a foke!\n"
          ]
        }
      ]
    },
    {
      "cell_type": "code",
      "source": [
        "#W4A6\n",
        "a, b = map(int, input(\"nhap khoang cua a -> b: \").split())\n",
        "total = 0\n",
        "j = 1\n",
        "for i in range(a,b+1):\n",
        "  if i < 2:\n",
        "    total = total\n",
        "  elif i == 2:\n",
        "    total += i\n",
        "  else:\n",
        "    for j in range(2,i):\n",
        "      if i % j == 0:\n",
        "        break\n",
        "    else:\n",
        "      total += i\n",
        "print(total)"
      ],
      "metadata": {
        "colab": {
          "base_uri": "https://localhost:8080/"
        },
        "id": "494xrdCHFcRC",
        "outputId": "50c9b496-ea55-4e59-e055-d09b94079396"
      },
      "execution_count": null,
      "outputs": [
        {
          "output_type": "stream",
          "name": "stdout",
          "text": [
            "nhap khoang cua a -> b: 10 20\n",
            "60\n"
          ]
        }
      ]
    },
    {
      "cell_type": "code",
      "source": [
        "#W4A7\n",
        "import math\n",
        "n = int(input(\"nhap so n: \"))\n",
        "numbers = []\n",
        "for i in range(2,n+1):\n",
        "  if n % i == 0:\n",
        "    for j in range(2, i):\n",
        "      if i % j == 0:\n",
        "        break\n",
        "    else:\n",
        "      numbers.append(i)\n",
        "print(max(numbers))\n"
      ],
      "metadata": {
        "colab": {
          "base_uri": "https://localhost:8080/"
        },
        "id": "FHdgFJXCRS4Q",
        "outputId": "f982531a-2b5e-4226-8d55-e05a00447d4f"
      },
      "execution_count": null,
      "outputs": [
        {
          "output_type": "stream",
          "name": "stdout",
          "text": [
            "nhap so n: 35\n",
            "7\n"
          ]
        }
      ]
    },
    {
      "cell_type": "code",
      "source": [
        "#W4A8\n",
        "n = str(input(\"nhap so n: \"))\n",
        "i = 0\n",
        "for i in range(1, 1000):\n",
        "  x = n[::-1]\n",
        "print(x)\n"
      ],
      "metadata": {
        "colab": {
          "base_uri": "https://localhost:8080/"
        },
        "id": "tQWqNzko5A7z",
        "outputId": "5d00bda8-7e44-44ba-cb06-a8591e06930d"
      },
      "execution_count": null,
      "outputs": [
        {
          "output_type": "stream",
          "name": "stdout",
          "text": [
            "nhap so n: 4567\n",
            "7654\n"
          ]
        }
      ]
    },
    {
      "cell_type": "code",
      "source": [
        "#W4A9\n",
        "def is_palindrome(n):\n",
        "    s = str(n)\n",
        "    return s == s[::-1]\n",
        "\n",
        "def reverse_number(n):\n",
        "    return int(str(n)[::-1])\n",
        "\n",
        "n = int(input(\"Nhập số nguyên dương: \"))\n",
        "steps = 0\n",
        "\n",
        "while not is_palindrome(n):\n",
        "    n = n + reverse_number(n)\n",
        "    steps += 1\n",
        "\n",
        "print(steps, n)"
      ],
      "metadata": {
        "colab": {
          "base_uri": "https://localhost:8080/"
        },
        "id": "o0WczrT3DG5e",
        "outputId": "0a7f0e99-3d39-4c54-bf5c-f507900a7ab2"
      },
      "execution_count": null,
      "outputs": [
        {
          "output_type": "stream",
          "name": "stdout",
          "text": [
            "Nhập số nguyên dương: 57\n",
            "2 363\n"
          ]
        }
      ]
    },
    {
      "cell_type": "code",
      "source": [
        "#W4A10\n",
        "n = int(input(\"nhap so n: \"))\n",
        "for i in range(1,round(n**0.5 +1)):\n",
        "  print(i**2)\n"
      ],
      "metadata": {
        "colab": {
          "base_uri": "https://localhost:8080/"
        },
        "id": "biy1tgwrD8SK",
        "outputId": "6220b5c2-7b5e-4a2b-ec80-ff930bfcc120"
      },
      "execution_count": null,
      "outputs": [
        {
          "output_type": "stream",
          "name": "stdout",
          "text": [
            "nhap so n: 500\n",
            "1\n",
            "4\n",
            "9\n",
            "16\n",
            "25\n",
            "36\n",
            "49\n",
            "64\n",
            "81\n",
            "100\n",
            "121\n",
            "144\n",
            "169\n",
            "196\n",
            "225\n",
            "256\n",
            "289\n",
            "324\n",
            "361\n",
            "400\n",
            "441\n",
            "484\n"
          ]
        }
      ]
    },
    {
      "cell_type": "code",
      "source": [
        "#W4A11\n",
        "n = int(input(\"nhap so n: \"))\n",
        "x = []\n",
        "for i in range(1, n+1):\n",
        "  if n % i == 0 and i % 2 == 0:\n",
        "    x.append(i)\n",
        "print(len(x))"
      ],
      "metadata": {
        "colab": {
          "base_uri": "https://localhost:8080/"
        },
        "id": "1a5BXEroFFU2",
        "outputId": "10bc7d58-bf5e-43f1-9b42-3cbce04365e8"
      },
      "execution_count": null,
      "outputs": [
        {
          "output_type": "stream",
          "name": "stdout",
          "text": [
            "nhap so n: 10024\n",
            "12\n"
          ]
        }
      ]
    },
    {
      "cell_type": "code",
      "source": [
        "#W4A12\n",
        "X, N = map(int, input().split())\n",
        "tien_rut = X * (1 + 0.007)**12\n",
        "print(int(tien_rut))\n"
      ],
      "metadata": {
        "colab": {
          "base_uri": "https://localhost:8080/"
        },
        "id": "CYe1W3S6HKXl",
        "outputId": "3c771692-6a67-4491-dda3-1234bb3f7bc5"
      },
      "execution_count": null,
      "outputs": [
        {
          "output_type": "stream",
          "name": "stdout",
          "text": [
            "1000 12\n",
            "1087\n"
          ]
        }
      ]
    },
    {
      "cell_type": "code",
      "source": [
        "#W4A13\n",
        "a, b = map(int, input(\"cap so a va b: \").split())\n",
        "def tongso_uoc(x):\n",
        "  total = 0\n",
        "  for i in range(1,x):\n",
        "    if x % i == 0:\n",
        "      total += i\n",
        "  return total\n",
        "if tongso_uoc(a) == b and tongso_uoc(b) == a:\n",
        "  print(\"True\")\n",
        "else:\n",
        "  print(\"False\")"
      ],
      "metadata": {
        "colab": {
          "base_uri": "https://localhost:8080/"
        },
        "id": "24Cs69ezI2kR",
        "outputId": "18ca78d2-745a-40b0-f3d0-f73ac909076e"
      },
      "execution_count": 1,
      "outputs": [
        {
          "output_type": "stream",
          "name": "stdout",
          "text": [
            "cap so a va b: 220 284\n",
            "True\n"
          ]
        }
      ]
    },
    {
      "cell_type": "code",
      "source": [
        "#W4A14\n",
        "import math\n",
        "a, b = map(int, input(\"cap so a va b: \").split())\n",
        "def list_uoc(x):\n",
        "  y = []\n",
        "  for i in range(1, x+1):\n",
        "    if x % i == 0:\n",
        "      y.append(i)\n",
        "  return y\n",
        "common = list(set(list_uoc(a)) & set(list_uoc(b)))\n",
        "print(max(common))"
      ],
      "metadata": {
        "colab": {
          "base_uri": "https://localhost:8080/"
        },
        "id": "Domlgp9x5Y7X",
        "outputId": "69d2bdbb-4bda-4579-dcc5-5442bf358aea"
      },
      "execution_count": 7,
      "outputs": [
        {
          "output_type": "stream",
          "name": "stdout",
          "text": [
            "cap so a va b: 100024 1024\n",
            "8\n"
          ]
        }
      ]
    },
    {
      "cell_type": "code",
      "source": [
        "#W4A15\n",
        "a, b = map(int, input(\"so con a va so chan b: \").split())\n",
        "so_ga = (4 * a - b)/2\n",
        "so_cho = a - so_ga\n",
        "if so_ga - int(so_ga) > 0 or so_cho - int(so_cho) > 0 or so_ga < 0 or so_cho < 0:\n",
        "  print(\"invalid\")\n",
        "else:\n",
        "  print(int(so_ga), int(so_cho))\n"
      ],
      "metadata": {
        "colab": {
          "base_uri": "https://localhost:8080/"
        },
        "id": "SKbvNikE8kKR",
        "outputId": "36a18a24-eaf8-4689-f72f-ad2b10d79655"
      },
      "execution_count": 15,
      "outputs": [
        {
          "output_type": "stream",
          "name": "stdout",
          "text": [
            "so con a va so chan b: 120 242\n",
            "119 1\n"
          ]
        }
      ]
    },
    {
      "cell_type": "code",
      "source": [
        "#W4A16\n",
        "for i in range(0, 100):\n",
        "    if i % 2 == 0 and i % 3 == 0:\n",
        "        print(i, end=\" \")"
      ],
      "metadata": {
        "colab": {
          "base_uri": "https://localhost:8080/"
        },
        "id": "oLa6deGHAYJ2",
        "outputId": "a4d2a91c-3231-4ede-e1de-02da864f822e"
      },
      "execution_count": 16,
      "outputs": [
        {
          "output_type": "stream",
          "name": "stdout",
          "text": [
            "0 6 12 18 24 30 36 42 48 54 60 66 72 78 84 90 96 "
          ]
        }
      ]
    },
    {
      "cell_type": "code",
      "source": [
        "#W4A17\n",
        "a = int(input(\"Nhập số nguyên dương a: \"))\n",
        "\n",
        "print(f\"Bảng cửu chương của {a}:\")\n",
        "for i in range(1, 11):\n",
        "    print(f\"{a} x {i} = {a * i}\")"
      ],
      "metadata": {
        "id": "G4f3S_paA_0r"
      },
      "execution_count": null,
      "outputs": []
    },
    {
      "cell_type": "code",
      "source": [
        "#W4A18\n",
        "a = int(input(\"Nhập số nguyên dương a: \"))\n",
        "b = int(input(\"Nhập số nguyên dương b: \"))\n",
        "\n",
        "print(f\"Các ước chung của {a} và {b} là:\")\n",
        "\n",
        "for i in range(1, min(a, b) + 1):\n",
        "    if a % i == 0 and b % i == 0:\n",
        "        print(i, end=\" \")"
      ],
      "metadata": {
        "id": "arYyr-Q0BDSA"
      },
      "execution_count": null,
      "outputs": []
    },
    {
      "cell_type": "code",
      "source": [
        "#W4A19\n",
        "n = int(input(\"Nhập số nguyên dương n (n <= 1000): \"))\n",
        "\n",
        "print(f\"Các số chẵn ≤ {n} là:\")\n",
        "for i in range(2, n + 1, 2):\n",
        "    print(i, end=\" \")"
      ],
      "metadata": {
        "id": "RuD-rbRxBbKZ"
      },
      "execution_count": null,
      "outputs": []
    },
    {
      "cell_type": "code",
      "source": [
        "#W4A20\n",
        "def luythua2_check(x):\n",
        "  if x < 1:\n",
        "    return False\n",
        "  while x % 2 == 0 or x == 1:\n",
        "    if x == 1 or x == 2:\n",
        "      return True\n",
        "    else:\n",
        "      x /= 2\n",
        "  else:\n",
        "    return False\n",
        "n = int(input(\"nhap so n: \"))\n",
        "luythua2_check(n)"
      ],
      "metadata": {
        "colab": {
          "base_uri": "https://localhost:8080/"
        },
        "id": "cpqu1CLuBqHr",
        "outputId": "bd12e9d4-2116-47e3-8d6b-de232f071682"
      },
      "execution_count": 41,
      "outputs": [
        {
          "name": "stdout",
          "output_type": "stream",
          "text": [
            "nhap so n: 3\n"
          ]
        },
        {
          "output_type": "execute_result",
          "data": {
            "text/plain": [
              "False"
            ]
          },
          "metadata": {},
          "execution_count": 41
        }
      ]
    },
    {
      "cell_type": "code",
      "source": [
        "#W4A21\n",
        "x = input(\"nhap vao so duong n: \")\n",
        "y = str(x)\n",
        "total = 0\n",
        "for i in range(len(y)):\n",
        "  total += int(y[i])\n",
        "print(total)"
      ],
      "metadata": {
        "colab": {
          "base_uri": "https://localhost:8080/"
        },
        "id": "nUPktdeeE3W0",
        "outputId": "95bfb3bf-2d8a-4048-e3b5-7c4264c73b8e"
      },
      "execution_count": 47,
      "outputs": [
        {
          "output_type": "stream",
          "name": "stdout",
          "text": [
            "nhap vao so duong n: 345\n",
            "12\n"
          ]
        }
      ]
    },
    {
      "cell_type": "code",
      "source": [
        "#W4A22\n",
        "n = input(\"Nhập số nguyên dương n: \")\n",
        "\n",
        "chan = 0\n",
        "le = 0\n",
        "\n",
        "for ch in n:\n",
        "    so = int(ch)\n",
        "    if so % 2 == 0:\n",
        "        chan += 1\n",
        "    else:\n",
        "        le += 1\n",
        "\n",
        "print(f\"Số chữ số chẵn: {chan}\")\n",
        "print(f\"Số chữ số lẻ: {le}\")"
      ],
      "metadata": {
        "id": "G9WOE2SrNuyR"
      },
      "execution_count": null,
      "outputs": []
    },
    {
      "cell_type": "code",
      "source": [
        "#W4A23\n",
        "import math\n",
        "n = int(input(\"nhap so n: \"))\n",
        "y = []\n",
        "def tong_sk(x):\n",
        "  tong = x * ( x + 1) / 2\n",
        "  return tong\n",
        "for k in range(n+1):\n",
        "  if tong_sk(k) < n:\n",
        "    y.append(k)\n",
        "print(max(y))\n",
        "\n"
      ],
      "metadata": {
        "colab": {
          "base_uri": "https://localhost:8080/"
        },
        "id": "H2cgNMXlNzLf",
        "outputId": "a30c388e-0773-4e42-872d-79766ed7aded"
      },
      "execution_count": 2,
      "outputs": [
        {
          "output_type": "stream",
          "name": "stdout",
          "text": [
            "nhap so n: 5052\n",
            "100\n"
          ]
        }
      ]
    },
    {
      "cell_type": "code",
      "source": [
        "#W4A24\n",
        "A = int(input(\"Nhập số nguyên dương A: \"))\n",
        "\n",
        "def tong(n):\n",
        "    total = 0\n",
        "    for i in range(1, n + 1):\n",
        "        total += 1 / i\n",
        "    return total\n",
        "\n",
        "n = 1\n",
        "while tong(n) <= A:\n",
        "    n += 1\n",
        "\n",
        "print(f\"Số n nhỏ nhất để tổng > {A} là: {n}\")"
      ],
      "metadata": {
        "colab": {
          "base_uri": "https://localhost:8080/"
        },
        "id": "SBSfh25MXwCR",
        "outputId": "1e6e74ad-724c-4ea1-8c47-196a99a14f44"
      },
      "execution_count": 7,
      "outputs": [
        {
          "output_type": "stream",
          "name": "stdout",
          "text": [
            "Nhập số nguyên dương A: 2\n",
            "Số n nhỏ nhất để tổng > 2 là: 4\n"
          ]
        }
      ]
    },
    {
      "cell_type": "code",
      "source": [
        "#W4A25\n",
        "import math\n",
        "lst = [-1]\n",
        "n = int(input(\"nhap so n: \"))\n",
        "while n != -1:\n",
        "  lst.append(n)\n",
        "  n = int(input(\"nhap so n: \"))\n",
        "print(f\"gia tri max la: {max(lst)}\")\n"
      ],
      "metadata": {
        "colab": {
          "base_uri": "https://localhost:8080/"
        },
        "id": "ejVz-KgaYHI6",
        "outputId": "023e8aff-4d69-469b-bb7c-5562a68766d4"
      },
      "execution_count": 12,
      "outputs": [
        {
          "output_type": "stream",
          "name": "stdout",
          "text": [
            "nhap so n: 1\n",
            "nhap so n: 2\n",
            "nhap so n: -1\n",
            "gia tri max la: 2\n"
          ]
        }
      ]
    },
    {
      "cell_type": "code",
      "source": [
        "#W4A26\n",
        "A = int(input(\"Nhập số nguyên dương A: \"))\n",
        "\n",
        "f1, f2 = 1, 1\n",
        "\n",
        "while f2 <= A:\n",
        "    f_next = f1 + f2\n",
        "    f1 = f2\n",
        "    f2 = f_next\n",
        "print(\"Số Fibonacci lớn nhất không vượt quá\", A, \"là:\", f1)"
      ],
      "metadata": {
        "id": "EWBGxFYyZf1D"
      },
      "execution_count": null,
      "outputs": []
    },
    {
      "cell_type": "code",
      "source": [
        "#W4A27\n",
        "chuoi = input(\"Nhập chuỗi: \")\n",
        "dodai = 0\n",
        "for _ in chuoi:\n",
        "    dodai += 1\n",
        "\n",
        "count = 0\n",
        "for i in range(dodai):\n",
        "    if chuoi[i] != \" \" and (i == 0 or chuoi[i - 1] == \" \"):\n",
        "        count += 1\n",
        "\n",
        "print(\"Số từ trong chuỗi là:\", count)\n",
        "\n"
      ],
      "metadata": {
        "colab": {
          "base_uri": "https://localhost:8080/"
        },
        "id": "TKtGsbGfaNLO",
        "outputId": "d33c4657-78ab-45ad-8e68-fd21560dc871"
      },
      "execution_count": 35,
      "outputs": [
        {
          "output_type": "stream",
          "name": "stdout",
          "text": [
            "nhap string vao: anh yeu em\n",
            "3\n"
          ]
        }
      ]
    },
    {
      "cell_type": "code",
      "source": [
        "#W4A29\n",
        "chuoi = input('Nhap vao 3 so: ')\n",
        "a, b ,c = chuoi.split(\",\")\n",
        "a = int(a)\n",
        "b = int(b)\n",
        "c = int(c)\n",
        "tong = a + b + c\n",
        "print(tong)"
      ],
      "metadata": {
        "colab": {
          "base_uri": "https://localhost:8080/"
        },
        "id": "_DHlfcZ7fvnB",
        "outputId": "a7681c05-f567-41dd-a9bc-aab221a4c5bf"
      },
      "execution_count": 37,
      "outputs": [
        {
          "output_type": "stream",
          "name": "stdout",
          "text": [
            "Nhap vao 3 so: 25, 26, 27\n",
            "78\n"
          ]
        }
      ]
    },
    {
      "cell_type": "code",
      "source": [
        "#W4A30\n",
        "chuoi = input(\"Nhập chuỗi: \")\n",
        "\n",
        "dem_hoa = 0\n",
        "dem_thuong = 0\n",
        "dem_so = 0\n",
        "\n",
        "for ch in chuoi:\n",
        "    if ch.isupper():\n",
        "        dem_hoa += 1\n",
        "    elif ch.islower():\n",
        "        dem_thuong += 1\n",
        "    elif ch.isdigit():\n",
        "        dem_so += 1\n",
        "\n",
        "print(\"Số chữ IN HOA:\", dem_hoa)\n",
        "print(\"Số chữ in thường:\", dem_thuong)\n",
        "print(\"Số chữ số:\", dem_so)"
      ],
      "metadata": {
        "colab": {
          "base_uri": "https://localhost:8080/"
        },
        "id": "atCnpfW4rb1o",
        "outputId": "c7aff086-dbb4-4943-9125-30bd14c365cf"
      },
      "execution_count": 42,
      "outputs": [
        {
          "output_type": "stream",
          "name": "stdout",
          "text": [
            "Nhập chuỗi: dfssdljf2203ủJBGUGB92340\n",
            "Số chữ IN HOA: 6\n",
            "Số chữ in thường: 9\n",
            "Số chữ số: 9\n"
          ]
        }
      ]
    },
    {
      "cell_type": "code",
      "source": [
        "#W4A31\n",
        "chuoi = input(\"Nhập chuỗi: \")\n",
        "total = 0\n",
        "for x in chuoi:\n",
        "  if x.isdigit():\n",
        "    total += int(x)\n",
        "print(total)\n"
      ],
      "metadata": {
        "colab": {
          "base_uri": "https://localhost:8080/"
        },
        "id": "WcNmb2MRuUHZ",
        "outputId": "d8909f98-3703-45a2-d2e0-fbf4e28bab47"
      },
      "execution_count": 44,
      "outputs": [
        {
          "output_type": "stream",
          "name": "stdout",
          "text": [
            "Nhập chuỗi: dfssdljf2203ủJBGUGB92340\n",
            "25\n"
          ]
        }
      ]
    },
    {
      "cell_type": "code",
      "source": [
        "#W4A32\n",
        "chuoi = input(\"Nhập chuỗi: \")\n",
        "\n",
        "dem_hoa = 0\n",
        "dem_thuong = 0\n",
        "dem_so = 0\n",
        "dac_biet = 0\n",
        "\n",
        "\n",
        "for ch in chuoi:\n",
        "    if ch.isupper():\n",
        "        dem_hoa += 1\n",
        "    elif ch.islower():\n",
        "        dem_thuong += 1\n",
        "    elif ch.isdigit():\n",
        "        dem_so += 1\n",
        "    elif not ch.isalpha() and not ch.isdigit() and not ch.isspace():\n",
        "        dac_biet += 1\n",
        "if dem_hoa >= 1 and dem_thuong >= 1 and dem_so >= 1 and dac_biet >= 1 and len(chuoi) >= 6:\n",
        "    print(\"Chuỗi hợp lệ\")\n",
        "else:\n",
        "    print(\"Chuỗi không hợp lệ\")\n"
      ],
      "metadata": {
        "colab": {
          "base_uri": "https://localhost:8080/"
        },
        "id": "0F9Nk1a3xdhV",
        "outputId": "a09ca5f5-bb19-43c0-b94e-6c019e94870a"
      },
      "execution_count": 46,
      "outputs": [
        {
          "output_type": "stream",
          "name": "stdout",
          "text": [
            "Nhập chuỗi: ThinhDuc123@\n",
            "Chuỗi hợp lệ\n"
          ]
        }
      ]
    },
    {
      "cell_type": "code",
      "source": [
        "#W4A33\n",
        "n = input(\"nhap vao chuoi so: \")\n",
        "chuoi = []\n",
        "for i in range(len(n)):\n",
        "    chuoi.append(n[i])\n",
        "for x in range(1, int(len(chuoi)/4 + 1)):\n",
        "  chuoi[-x * 4] = \".\"\n",
        "print(\"\".join(chuoi))\n",
        "\n",
        "\n",
        "\n",
        "\n"
      ],
      "metadata": {
        "colab": {
          "base_uri": "https://localhost:8080/"
        },
        "id": "O5XSFIgQ0dsW",
        "outputId": "3ea1f364-5db4-40dd-b9ef-390749ff7923"
      },
      "execution_count": 58,
      "outputs": [
        {
          "output_type": "stream",
          "name": "stdout",
          "text": [
            "nhap vao chuoi so: 223613464\n",
            "2.361.464\n"
          ]
        }
      ]
    },
    {
      "cell_type": "code",
      "source": [
        "#W4A34\n",
        "chuoi_a = input(\"Nhập chuỗi A: \").split()\n",
        "chuoi_b = input(\"Nhập chuỗi B: \").split()\n",
        "for x in chuoi_a:\n",
        "  if x not in chuoi_b:\n",
        "    print(x, end=\" \")"
      ],
      "metadata": {
        "colab": {
          "base_uri": "https://localhost:8080/"
        },
        "id": "Iz2ihH8uT4pO",
        "outputId": "43f2fa05-cf8a-42e9-c00e-d4689e74ac60"
      },
      "execution_count": 3,
      "outputs": [
        {
          "output_type": "stream",
          "name": "stdout",
          "text": [
            "Nhập chuỗi A: xin chao moi nguoi!\n",
            "Nhập chuỗi B: xin chao\n",
            "moi nguoi! "
          ]
        }
      ]
    }
  ]
}