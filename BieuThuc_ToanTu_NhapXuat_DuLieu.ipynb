{
  "nbformat": 4,
  "nbformat_minor": 0,
  "metadata": {
    "colab": {
      "provenance": []
    },
    "kernelspec": {
      "name": "python3",
      "display_name": "Python 3"
    },
    "language_info": {
      "name": "python"
    }
  },
  "cells": [
    {
      "cell_type": "code",
      "execution_count": null,
      "metadata": {
        "colab": {
          "base_uri": "https://localhost:8080/"
        },
        "id": "MyLVrE-gkR_5",
        "outputId": "1abfe877-2702-4c7b-a95f-3b4b810c4e6f"
      },
      "outputs": [
        {
          "output_type": "stream",
          "name": "stdout",
          "text": [
            "Hello World\n"
          ]
        }
      ],
      "source": [
        "#W2A1\n",
        "print(\"Hello World\")"
      ]
    },
    {
      "cell_type": "code",
      "source": [
        "#W2A2\n",
        "x = input()\n",
        "print(f\"Hello {x}\")"
      ],
      "metadata": {
        "colab": {
          "base_uri": "https://localhost:8080/"
        },
        "id": "R77G6e1wk-6-",
        "outputId": "fcdd8f39-4e4a-42d2-cf71-2f97a3d2ea52"
      },
      "execution_count": null,
      "outputs": [
        {
          "output_type": "stream",
          "name": "stdout",
          "text": [
            "Duc\n",
            "Hello Duc\n"
          ]
        }
      ]
    },
    {
      "cell_type": "code",
      "source": [
        "#W2A3\n",
        "a = int(input())\n",
        "b = int(input())\n",
        "print(a + b)\n",
        "print(a - b)\n",
        "print(a * b)\n",
        "print(a // b)\n",
        "print(a % b)\n",
        "print(round(a / b, 2))"
      ],
      "metadata": {
        "id": "rSO4s9FRdvW9"
      },
      "execution_count": null,
      "outputs": []
    },
    {
      "cell_type": "code",
      "source": [
        "#W2A4\n",
        "a1, b1, c1, a2, b2, a3 = map(float, input().split())\n",
        "tb = ((a1 + b1 + c1) + (a2 + b2) * 2 + a3 * 3) / 10\n",
        "print(round(tb, 1))"
      ],
      "metadata": {
        "id": "HToIWDk4dv40"
      },
      "execution_count": null,
      "outputs": []
    },
    {
      "cell_type": "code",
      "source": [
        "#W2A5\n",
        "a, b = map(int, input().split())\n",
        "print(a ** b)"
      ],
      "metadata": {
        "id": "3Y0OG3JhdwBL"
      },
      "execution_count": null,
      "outputs": []
    },
    {
      "cell_type": "code",
      "source": [
        "#W2A6\n",
        "ch = input()\n",
        "print(ord(ch))\n",
        "print(chr(ord(ch) - 32))"
      ],
      "metadata": {
        "id": "b1T7SpccdwFj",
        "colab": {
          "base_uri": "https://localhost:8080/"
        },
        "outputId": "d6f823d9-142c-4f86-cee4-760cf7e2ec3c"
      },
      "execution_count": 2,
      "outputs": [
        {
          "output_type": "stream",
          "name": "stdout",
          "text": [
            "a\n",
            "97\n",
            "A\n"
          ]
        }
      ]
    },
    {
      "cell_type": "code",
      "source": [
        "#W2A7\n",
        "A = ((13 ** 2) * 3) + 5\n",
        "B = 13**2*3 + 5\n",
        "print(A)\n",
        "print(B)"
      ],
      "metadata": {
        "id": "PP9tD840dwKh"
      },
      "execution_count": null,
      "outputs": []
    },
    {
      "cell_type": "code",
      "source": [
        "#W2A8\n",
        "C = float(input())\n",
        "F = (9 / 5) * C + 32\n",
        "print(round(F, 2))"
      ],
      "metadata": {
        "id": "fh_PgJbtfAwF"
      },
      "execution_count": null,
      "outputs": []
    },
    {
      "cell_type": "code",
      "source": [
        "#W2A9\n",
        "x = float(input())\n",
        "total = x + 10 + x * 0.3 + x * 0.1\n",
        "print(round(total, 2))"
      ],
      "metadata": {
        "id": "YuFZsBymfCEr"
      },
      "execution_count": null,
      "outputs": []
    },
    {
      "cell_type": "code",
      "source": [
        "#w2a10\n",
        "x = input()\n",
        "y = input()\n",
        "z = input()\n",
        "print(f\"Hello {z},{y} and {z}\")"
      ],
      "metadata": {
        "colab": {
          "base_uri": "https://localhost:8080/"
        },
        "id": "vwQRbDfRlPDv",
        "outputId": "2f96559b-0be9-420e-cbef-ce5b620b2153"
      },
      "execution_count": null,
      "outputs": [
        {
          "output_type": "stream",
          "name": "stdout",
          "text": [
            "duc\n",
            "hung\n",
            "dat\n",
            "Hello dat,hung and dat\n"
          ]
        }
      ]
    },
    {
      "cell_type": "code",
      "source": [
        "#w2a11\n",
        "h, m = map(int, input().split())\n",
        "seconds = h * 3600 + m * 60\n",
        "print(seconds)"
      ],
      "metadata": {
        "id": "F6NHYoS8fDjg"
      },
      "execution_count": null,
      "outputs": []
    },
    {
      "cell_type": "code",
      "source": [
        "#w2a12\n",
        "n = int(input())\n",
        "stickers = 6 * (n ** 2)\n",
        "print(stickers)"
      ],
      "metadata": {
        "id": "oxPdtEsCfDuu"
      },
      "execution_count": null,
      "outputs": []
    },
    {
      "cell_type": "code",
      "source": [
        "#w2a13\n",
        "a, b = map(int, input().split())\n",
        "print((a * b) % 10)"
      ],
      "metadata": {
        "id": "URAGmrHhfD4m"
      },
      "execution_count": null,
      "outputs": []
    },
    {
      "cell_type": "code",
      "source": [
        "#w2a14\n",
        "a, b = map(int, input().split())\n",
        "a, b = b, a\n",
        "print(a, b)"
      ],
      "metadata": {
        "id": "vsCXgRIgfEFn"
      },
      "execution_count": null,
      "outputs": []
    },
    {
      "cell_type": "code",
      "source": [
        "#w2a15\n",
        "n = int(input())\n",
        "star_number = 6 * n * (n - 1) + 1\n",
        "print(star_number)"
      ],
      "metadata": {
        "id": "ZuHCHqCffEUM"
      },
      "execution_count": null,
      "outputs": []
    },
    {
      "cell_type": "code",
      "source": [
        "#w2a16\n",
        "print(\"spring\\nsummer\\nautumn\\nwinter\")"
      ],
      "metadata": {
        "colab": {
          "base_uri": "https://localhost:8080/"
        },
        "id": "OAIklqhVm8UD",
        "outputId": "29f93e36-2059-41ad-86ca-38b0aea6f6a3"
      },
      "execution_count": null,
      "outputs": [
        {
          "output_type": "stream",
          "name": "stdout",
          "text": [
            "spring\n",
            "summer\n",
            "autumn\n",
            "winter\n"
          ]
        }
      ]
    },
    {
      "cell_type": "code",
      "source": [
        "#w2a17\n",
        "def dausao1():\n",
        "  print(\"*\")\n",
        "  print(\"* * *\")\n",
        "  print(\"* * * * *\")\n",
        "dausao1()"
      ],
      "metadata": {
        "colab": {
          "base_uri": "https://localhost:8080/"
        },
        "id": "5klPeEDEnQ4K",
        "outputId": "59205c56-5056-4ebc-860f-7816bc218a5c"
      },
      "execution_count": null,
      "outputs": [
        {
          "output_type": "stream",
          "name": "stdout",
          "text": [
            "*\n",
            "* * *\n",
            "* * * * *\n"
          ]
        }
      ]
    },
    {
      "cell_type": "code",
      "source": [
        "#w2a18\n",
        "print(\"### # #    ### ###\")\n",
        "print(\" #  #  #   #   # \")\n",
        "print(\" #  #   #  #   # \")\n",
        "print(\" #  #  #   #   # \")\n",
        "print(\" #  # #     #   # \")"
      ],
      "metadata": {
        "colab": {
          "base_uri": "https://localhost:8080/"
        },
        "id": "lJhAg52Y1yU4",
        "outputId": "44ce6bb7-5f23-4089-a8b5-6eed6651d20e"
      },
      "execution_count": null,
      "outputs": [
        {
          "output_type": "stream",
          "name": "stdout",
          "text": [
            "### ##    ### ###\n",
            " #  #  #   #   # \n",
            " #  #   #  #   # \n",
            " #  #  #   #   # \n",
            " #  ##     #   # \n"
          ]
        }
      ]
    },
    {
      "cell_type": "code",
      "source": [
        "# W2A19\n",
        "ngay = [\"Monday\", \"Tuesday\", \"Wednesday\", \"Thursday\", \"Friday\", \"Saturday\", \"Sunday\"]\n",
        "for d in ngay:\n",
        "    print(d)"
      ],
      "metadata": {
        "colab": {
          "base_uri": "https://localhost:8080/"
        },
        "id": "RmlFa4xlsAvM",
        "outputId": "c91c69dd-fd2f-4c91-b7c2-164e81f7749b"
      },
      "execution_count": null,
      "outputs": [
        {
          "output_type": "stream",
          "name": "stdout",
          "text": [
            "Monday\n",
            "Tuesday\n",
            "Wednesday\n",
            "Thursday\n",
            "Friday\n",
            "Saturday\n",
            "Sunday\n"
          ]
        }
      ]
    },
    {
      "cell_type": "code",
      "source": [
        "# W2A20\n",
        "thang = [\"January\", \"February\", \"March\", \"April\", \"May\", \"June\",\n",
        "          \"July\", \"August\", \"September\", \"October\", \"November\", \"December\"]\n",
        "for i in thang:\n",
        "    print(i)"
      ],
      "metadata": {
        "colab": {
          "base_uri": "https://localhost:8080/"
        },
        "id": "vaPb1Cw2sfG4",
        "outputId": "a22daa44-063e-40d1-c0d4-29657b65a205"
      },
      "execution_count": null,
      "outputs": [
        {
          "output_type": "stream",
          "name": "stdout",
          "text": [
            "January\n",
            "February\n",
            "March\n",
            "April\n",
            "May\n",
            "June\n",
            "July\n",
            "August\n",
            "September\n",
            "October\n",
            "November\n",
            "December\n"
          ]
        }
      ]
    },
    {
      "cell_type": "code",
      "source": [
        "#w2a21\n",
        "for i in range (1,11):\n",
        "    print(\"Hello, World\")"
      ],
      "metadata": {
        "colab": {
          "base_uri": "https://localhost:8080/"
        },
        "id": "I0lFZzBa2VuM",
        "outputId": "517500f6-b0c3-4436-95ff-a68d1f3c82b6"
      },
      "execution_count": null,
      "outputs": [
        {
          "output_type": "stream",
          "name": "stdout",
          "text": [
            "Hello, World\n",
            "Hello, World\n",
            "Hello, World\n",
            "Hello, World\n",
            "Hello, World\n",
            "Hello, World\n",
            "Hello, World\n",
            "Hello, World\n",
            "Hello, World\n",
            "Hello, World\n"
          ]
        }
      ]
    }
  ]
}