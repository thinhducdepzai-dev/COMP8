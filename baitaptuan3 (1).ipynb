{
  "nbformat": 4,
  "nbformat_minor": 0,
  "metadata": {
    "colab": {
      "provenance": []
    },
    "kernelspec": {
      "name": "python3",
      "display_name": "Python 3"
    },
    "language_info": {
      "name": "python"
    }
  },
  "cells": [
    {
      "cell_type": "code",
      "execution_count": null,
      "metadata": {
        "colab": {
          "base_uri": "https://localhost:8080/"
        },
        "id": "WsIy9gCS1_Dq",
        "outputId": "d0f4bd02-b660-4088-f31c-204ee8df6a2e"
      },
      "outputs": [
        {
          "output_type": "stream",
          "name": "stdout",
          "text": [
            "Chon mot so: 456450287952\n",
            "259782054654\n"
          ]
        }
      ],
      "source": [
        "#1\n",
        "x = int(input(\"Chon mot so: \"))\n",
        "x = str(x)\n",
        "y = list(x)\n",
        "y.reverse()\n",
        "y = \"\".join(y)\n",
        "print(y)"
      ]
    },
    {
      "cell_type": "code",
      "source": [
        "#2\n",
        "a = int(input(\"Nhap so a: \"))\n",
        "b = int(input(\"Nhap so b: \"))\n",
        "\n",
        "a = a ^ b\n",
        "b = a ^ b\n",
        "a = a ^ b\n",
        "\n",
        "print(\"Sau khi hoan doi: a =\", a, \", b =\", b)\n",
        "\n"
      ],
      "metadata": {
        "colab": {
          "base_uri": "https://localhost:8080/"
        },
        "id": "OGTtlR4g3Rp2",
        "outputId": "2b484ba7-c0ad-44f6-9d2d-7a75f5a85f9f"
      },
      "execution_count": null,
      "outputs": [
        {
          "output_type": "stream",
          "name": "stdout",
          "text": [
            "Nhap so a: 6\n",
            "Nhap so b: 8\n",
            "Sau khi hoan doi: a = 8 , b = 6\n"
          ]
        }
      ]
    },
    {
      "cell_type": "code",
      "source": [
        "#3\n",
        "n = int(input(\"Nhap mot so: \"))\n",
        "\n",
        "if n <= 0:\n",
        "    print(\"False\")\n",
        "else:\n",
        "    while n % 2 == 0:\n",
        "        n //= 2\n",
        "    if n == 1:\n",
        "        print(\"True\")\n",
        "    else:\n",
        "        print(\"False\")"
      ],
      "metadata": {
        "colab": {
          "base_uri": "https://localhost:8080/"
        },
        "id": "-uM7xcwu4-tn",
        "outputId": "63f6cefb-4c0c-4ccb-8cea-224f35154fe7"
      },
      "execution_count": null,
      "outputs": [
        {
          "output_type": "stream",
          "name": "stdout",
          "text": [
            "Nhap mot so: 5\n",
            "False\n"
          ]
        }
      ]
    },
    {
      "cell_type": "code",
      "source": [
        "#4\n",
        "m = int(input(\"nhap so m: \"))\n",
        "n = int(input(\"nhap so n: \"))\n",
        "x = m // n\n",
        "print(x)"
      ],
      "metadata": {
        "colab": {
          "base_uri": "https://localhost:8080/"
        },
        "id": "Y63hcpDL-cpr",
        "outputId": "b9603bf3-3d0b-4f72-e3d8-f84cab1b10e7"
      },
      "execution_count": null,
      "outputs": [
        {
          "output_type": "stream",
          "name": "stdout",
          "text": [
            "nhap so m: 1431424\n",
            "nhap so n: 324\n",
            "4417\n"
          ]
        }
      ]
    },
    {
      "cell_type": "code",
      "source": [
        "#5\n",
        "import math\n",
        "m = int(input(\"nhap so m: \"))\n",
        "n = int(input(\"nhap so n: \"))\n",
        "x = m / n\n",
        "print(math.ceil(x))\n"
      ],
      "metadata": {
        "colab": {
          "base_uri": "https://localhost:8080/"
        },
        "id": "_phoOYQc_e86",
        "outputId": "7fbee2eb-63bc-471b-9158-6bd5930d92ac"
      },
      "execution_count": null,
      "outputs": [
        {
          "output_type": "stream",
          "name": "stdout",
          "text": [
            "nhap so m: 7\n",
            "nhap so n: 5\n",
            "2\n"
          ]
        }
      ]
    },
    {
      "cell_type": "code",
      "source": [
        "#6\n",
        "x = int(input(\"nhap vao so x: \"))\n",
        "if x % 2 == 0:\n",
        "  print(\"Even\")\n",
        "else:\n",
        "  print(\"Odd\")\n"
      ],
      "metadata": {
        "colab": {
          "base_uri": "https://localhost:8080/"
        },
        "id": "rz85JjmI_0PK",
        "outputId": "df09da5b-1531-4fe9-be7f-f42731e131cc"
      },
      "execution_count": null,
      "outputs": [
        {
          "output_type": "stream",
          "name": "stdout",
          "text": [
            "nhap vao so x: 5\n",
            "Odd\n"
          ]
        }
      ]
    },
    {
      "cell_type": "code",
      "source": [
        "#7\n",
        "a = int(input(\"nhap so a: \"))\n",
        "b = int(input(\"nhap so b: \"))\n",
        "if a < 0 and b < 0:\n",
        "  print('Yes')\n",
        "else:\n",
        "  print('No')"
      ],
      "metadata": {
        "colab": {
          "base_uri": "https://localhost:8080/"
        },
        "id": "OwvEn5r-AFhp",
        "outputId": "71d0c18a-e2f0-41c9-f886-c4a8d6320985"
      },
      "execution_count": null,
      "outputs": [
        {
          "output_type": "stream",
          "name": "stdout",
          "text": [
            "nhap so a: -2\n",
            "nhap so b: -6\n",
            "Yes\n"
          ]
        }
      ]
    },
    {
      "cell_type": "code",
      "source": [
        "#8\n",
        "a = str(input(\"nhap vao chuoi a: \"))\n",
        "b = str(input(\"nhap vao chuoi b: \"))\n",
        "if len(a) > len(b):\n",
        "  print(\"True\")\n",
        "else:\n",
        "  print(\"False\")\n"
      ],
      "metadata": {
        "colab": {
          "base_uri": "https://localhost:8080/"
        },
        "id": "FGDhmpNsAOT6",
        "outputId": "7a3e4b92-094e-41f1-b930-24bd28c74c91"
      },
      "execution_count": null,
      "outputs": [
        {
          "output_type": "stream",
          "name": "stdout",
          "text": [
            "nhap vao chuoi a: dog\n",
            "nhap vao chuoi b: shit\n",
            "False\n"
          ]
        }
      ]
    },
    {
      "cell_type": "code",
      "source": [
        "#9\n",
        "a, b, c = map(int, input().split())\n",
        "if a + b > c and a + c > b and b + c > a:\n",
        "    print(\"Yes\")\n",
        "else:\n",
        "    print(\"No\")"
      ],
      "metadata": {
        "id": "xaWfa8TqR5Qa"
      },
      "execution_count": null,
      "outputs": []
    },
    {
      "cell_type": "code",
      "source": [
        "#10\n",
        "a, b, c, d = map(int, input().split())\n",
        "print(max(a, b, c, d))"
      ],
      "metadata": {
        "id": "owJdQuKMk1d5"
      },
      "execution_count": null,
      "outputs": []
    },
    {
      "cell_type": "code",
      "source": [
        "#11\n",
        "a, b, c = map(int, input().split())\n",
        "\n",
        "if a + b <= c or a + c <= b or b + c <= a:\n",
        "    print(\"Không phải tam giác\")\n",
        "else:\n",
        "    if a == b == c:\n",
        "        print(\"Tam giác đều\")\n",
        "    elif a == b or a == c or b == c:\n",
        "        print(\"Tam giác cân\")\n",
        "    else:\n",
        "        print(\"Tam giác thường\")"
      ],
      "metadata": {
        "id": "rB-EvrUtk1fw"
      },
      "execution_count": null,
      "outputs": []
    },
    {
      "cell_type": "code",
      "source": [
        "#12\n",
        "n = int(input())\n",
        "if (n % 4 == 0 and n % 100 != 0) or (n % 400 == 0):\n",
        "    print(\"Yes\")\n",
        "else:\n",
        "    print(\"No\")"
      ],
      "metadata": {
        "id": "QpLOmzJ6k1hf"
      },
      "execution_count": null,
      "outputs": []
    },
    {
      "cell_type": "code",
      "source": [
        "#13\n",
        "kwh = int(input())\n",
        "\n",
        "if kwh <= 50:\n",
        "    total = kwh * 1500\n",
        "elif kwh <= 100:\n",
        "    total = 50 * 1500 + (kwh - 50) * 2000\n",
        "else:\n",
        "    total = 50 * 1500 + 50 * 2000 + (kwh - 100) * 3000\n",
        "\n",
        "print(total)"
      ],
      "metadata": {
        "id": "MRF1sJ3mk1i4"
      },
      "execution_count": null,
      "outputs": []
    },
    {
      "cell_type": "code",
      "source": [
        "#14\n",
        "a, b = map(float, input().split())\n",
        "\n",
        "if a == 0:\n",
        "    if b == 0:\n",
        "        print(\"Vô số nghiệm\")\n",
        "    else:\n",
        "        print(\"Vô nghiệm\")\n",
        "else:\n",
        "    x = -b / a\n",
        "    print(round(x, 2))"
      ],
      "metadata": {
        "id": "U--0cGuJk1k4"
      },
      "execution_count": null,
      "outputs": []
    },
    {
      "cell_type": "code",
      "source": [
        "#15\n",
        "diem = float(input())\n",
        "\n",
        "if diem >= 8.0:\n",
        "    print(\"Giỏi\")\n",
        "elif diem >= 6.5:\n",
        "    print(\"Khá\")\n",
        "elif diem >= 5.0:\n",
        "    print(\"Trung bình\")\n",
        "else:\n",
        "    print(\"Yếu\")"
      ],
      "metadata": {
        "id": "ZTSXsnbdk1mc"
      },
      "execution_count": null,
      "outputs": []
    },
    {
      "cell_type": "code",
      "source": [
        "#16\n",
        "x = float(input())\n",
        "\n",
        "# Làm tròn xuống\n",
        "if x >= 0:\n",
        "    down = int(x)\n",
        "else:\n",
        "    down = int(x) - (x != int(x))\n",
        "\n",
        "# Làm tròn lên\n",
        "if x >= 0:\n",
        "    up = int(x) + (x != int(x))\n",
        "else:\n",
        "    up = int(x)\n",
        "\n",
        "# Làm tròn đến số nguyên gần nhất\n",
        "frac = x - int(x)\n",
        "if x >= 0:\n",
        "    nearest = int(x) + (frac >= 0.5)\n",
        "else:\n",
        "    nearest = int(x) - (frac <= -0.5)\n",
        "\n",
        "print(up, down, nearest)"
      ],
      "metadata": {
        "id": "1bE5wAamk1oh"
      },
      "execution_count": null,
      "outputs": []
    },
    {
      "cell_type": "code",
      "source": [
        "#17\n",
        "#là câu 11"
      ],
      "metadata": {
        "id": "gqpe5Os4k1qW"
      },
      "execution_count": 1,
      "outputs": []
    }
  ]
}